{
 "cells": [
  {
   "cell_type": "code",
   "execution_count": null,
   "id": "17a891b7",
   "metadata": {},
   "outputs": [],
   "source": [
    "import pathlib\n",
    "import re\n",
    "\n",
    "from tqdm.notebook import tqdm\n",
    "import numpy as np\n",
    "import matplotlib.pyplot as plt\n",
    "import yaml\n",
    "\n",
    "import texture_strength_comparison_functions as functions\n",
    "\n",
    "%matplotlib inline\n",
    "%load_ext autoreload\n",
    "%autoreload 2"
   ]
  },
  {
   "cell_type": "markdown",
   "id": "b2173e3d",
   "metadata": {},
   "source": [
    "## Load YAML file"
   ]
  },
  {
   "cell_type": "markdown",
   "id": "5576b2dd",
   "metadata": {},
   "source": [
    "The file paths and user inputs for the analysis of the Diamond 2021 experiments are included in the `yaml` configuration files, to record the inputs of the analysis.\n",
    "\n",
    "The information in the `yaml` file can be accessed like this."
   ]
  },
  {
   "cell_type": "code",
   "execution_count": null,
   "id": "90f7a897",
   "metadata": {},
   "outputs": [],
   "source": [
    "# to load the Diamond 2021 analysis\n",
    "config_path = \"yaml/config_diamond_2021.yaml\"\n",
    "config = functions.get_config(config_path)"
   ]
  },
  {
   "cell_type": "markdown",
   "id": "ee00b610",
   "metadata": {},
   "source": [
    "## Comparing texture strength results for the `Diamond 2021` experiment"
   ]
  },
  {
   "cell_type": "markdown",
   "id": "a536037b",
   "metadata": {},
   "source": [
    "### Load the ${\\alpha}$-phase texture results from EBSD, SXRD-CPF and SXRD-MAUD"
   ]
  },
  {
   "cell_type": "markdown",
   "id": "c91d79ab",
   "metadata": {},
   "source": [
    "Load the texture strengths for the data refined using EBSD and write the results to new arrays."
   ]
  },
  {
   "cell_type": "code",
   "execution_count": null,
   "id": "bd3d125a",
   "metadata": {},
   "outputs": [],
   "source": [
    "ebsd_alpha_results = functions.load_ebsd_alpha(config_path)"
   ]
  },
  {
   "cell_type": "markdown",
   "id": "975b59ae",
   "metadata": {},
   "source": [
    "Load the texture strengths for the data refined using direct intensities from Continuous-Peak-Fit using Fourier peak analysis and write the results to new arrays."
   ]
  },
  {
   "cell_type": "code",
   "execution_count": null,
   "id": "6f94f1a2",
   "metadata": {},
   "outputs": [],
   "source": [
    "cpf_alpha_results = functions.load_sxrd_cpf_alpha(config_path)"
   ]
  },
  {
   "cell_type": "markdown",
   "id": "4b40ca53",
   "metadata": {},
   "source": [
    "Load the texture strengths for the data refined using the Rietveld method in MAUD and write the results to new arrays. "
   ]
  },
  {
   "cell_type": "code",
   "execution_count": null,
   "id": "e999c915",
   "metadata": {},
   "outputs": [],
   "source": [
    "maud_alpha_results = functions.load_sxrd_maud_alpha(config_path)"
   ]
  },
  {
   "cell_type": "markdown",
   "id": "5e06aed7",
   "metadata": {},
   "source": [
    "### Plotting the ${\\alpha}$-phase texture variation"
   ]
  },
  {
   "cell_type": "markdown",
   "id": "5cb624d0",
   "metadata": {},
   "source": [
    "Define the output folder, phase and experiment number for plotting the data.\n",
    "\n",
    "Then, plot the texture strength variation with image number, representing **${\\alpha}$-phase** texture strength variation across the rolled Ti-64 sample, as recorded by the different EBSD and SXRD analysis methods."
   ]
  },
  {
   "cell_type": "code",
   "execution_count": null,
   "id": "34b1e841",
   "metadata": {},
   "outputs": [],
   "source": [
    "output_folder = config[\"file_paths\"][\"output_folder\"]\n",
    "print(\"The output folder is: \", output_folder, sep = '\\n', end = '\\n\\n')\n",
    "phase_1 = config[\"user_inputs\"][\"phase_1\"]\n",
    "print(\"The first phase to analyse is: \", phase_1, sep = '\\n', end = '\\n\\n')\n",
    "sxrd_experiment_number = config[\"user_inputs\"][\"sxrd_experiment_number\"]\n",
    "print(\"The SXRD experiment number is: \", sxrd_experiment_number, sep = '\\n', end = '\\n\\n')\n",
    "\n",
    "texture_strength_types = [\"texture_index\", \"odf_max\", \"0002_pf_max\", \"10-10_pf_max\", \"11-20_pf_max\"]\n",
    "for texture_strength_type in texture_strength_types:\n",
    "    print(\"The plots below show the variation in \", texture_strength_type, \" across the sample\", end = '\\n\\n')\n",
    "    functions.plot_texture_strength(sxrd_experiment_number, phase_1, texture_strength_type, output_folder, \n",
    "                                    ebsd_alpha_results, cpf_alpha_results, maud_alpha_results)"
   ]
  },
  {
   "cell_type": "markdown",
   "id": "c0af49b5",
   "metadata": {},
   "source": [
    "### Plotting the ${\\alpha}$-phase texture variation as a map"
   ]
  },
  {
   "cell_type": "markdown",
   "id": "87cb0997",
   "metadata": {},
   "source": [
    "We can also plot the **${\\alpha}$-phase** texture strength variation as a two-dimensional map. Here, we are looking at the maximum pole figure intensity variation for different lattice plane peaks across the Ti-64 sample."
   ]
  },
  {
   "cell_type": "code",
   "execution_count": null,
   "id": "27ad717d",
   "metadata": {},
   "outputs": [],
   "source": [
    "texture_strength_type = \"0002_pf_max\"\n",
    "v_min = 1\n",
    "v_max = 7\n",
    "c_map = \"Reds\"\n",
    "functions.plot_sxrd_map(sxrd_experiment_number, phase_1, texture_strength_type, output_folder, \n",
    "                       cpf_alpha_results, c_map, v_min, v_max)\n",
    "\n",
    "texture_strength_type = \"10-10_pf_max\"\n",
    "v_min = 1\n",
    "v_max = 2.5\n",
    "c_map = \"Blues\"\n",
    "functions.plot_sxrd_map(sxrd_experiment_number, phase_1, texture_strength_type, output_folder, \n",
    "                       cpf_alpha_results, c_map, v_min, v_max)\n",
    "\n",
    "texture_strength_type = \"11-20_pf_max\"\n",
    "v_min = 1\n",
    "v_max = 4\n",
    "c_map = \"Greens\"\n",
    "functions.plot_sxrd_map(sxrd_experiment_number, phase_1, texture_strength_type, output_folder, \n",
    "                       cpf_alpha_results, c_map, v_min, v_max)"
   ]
  },
  {
   "cell_type": "markdown",
   "id": "a63f1d98",
   "metadata": {},
   "source": [
    "### Load the ${\\beta}$-phase texture results from EBSD, SXRD-CPF and SXRD-MAUD"
   ]
  },
  {
   "cell_type": "markdown",
   "id": "41ebdadc",
   "metadata": {},
   "source": [
    "Load the texture strengths for the data refined using EBSD and write the results to new arrays."
   ]
  },
  {
   "cell_type": "code",
   "execution_count": null,
   "id": "12585c1d",
   "metadata": {},
   "outputs": [],
   "source": [
    "ebsd_beta_results = functions.load_ebsd_beta(config_path)"
   ]
  },
  {
   "cell_type": "markdown",
   "id": "2a9f737c",
   "metadata": {},
   "source": [
    "Load the texture strengths for the data refined using direct intensities from Continuous-Peak-Fit using Fourier peak analysis and write the results to new arrays."
   ]
  },
  {
   "cell_type": "code",
   "execution_count": null,
   "id": "c7259b34",
   "metadata": {},
   "outputs": [],
   "source": [
    "cpf_beta_results = functions.load_sxrd_cpf_beta(config_path)"
   ]
  },
  {
   "cell_type": "markdown",
   "id": "32f0d6e1",
   "metadata": {},
   "source": [
    "Load the texture strengths for the data refined using the Rietveld method in MAUD and write the results to new arrays. "
   ]
  },
  {
   "cell_type": "code",
   "execution_count": null,
   "id": "874bac22",
   "metadata": {},
   "outputs": [],
   "source": [
    "maud_beta_results = functions.load_sxrd_maud_beta(config_path)"
   ]
  },
  {
   "cell_type": "markdown",
   "id": "82effba7",
   "metadata": {},
   "source": [
    "### Plotting the ${\\beta}$-phase texture variation"
   ]
  },
  {
   "cell_type": "markdown",
   "id": "9ee50917",
   "metadata": {},
   "source": [
    "Define the output folder, phase and experiment number for plotting the data.\n",
    "\n",
    "Then, plot the texture strength variation with image number, representing **${\\beta}$-phase** texture strength variation across the rolled Ti-64 sample, as recorded by the different EBSD and SXRD analysis methods."
   ]
  },
  {
   "cell_type": "code",
   "execution_count": null,
   "id": "a57bee2d",
   "metadata": {},
   "outputs": [],
   "source": [
    "output_folder = config[\"file_paths\"][\"output_folder\"]\n",
    "print(\"The output folder is: \", output_folder, sep = '\\n', end = '\\n\\n')\n",
    "phase_2 = config[\"user_inputs\"][\"phase_2\"]\n",
    "print(\"The first phase to analyse is: \", phase_2, sep = '\\n', end = '\\n\\n')\n",
    "\n",
    "texture_strength_types = [\"texture_index\", \"odf_max\", \"001_pf_max\", \"110_pf_max\", \"111_pf_max\"]\n",
    "for texture_strength_type in texture_strength_types:\n",
    "    print(\"The plots below show the variation in \", texture_strength_type, \" across the sample\", end = '\\n\\n')\n",
    "    functions.plot_texture_strength(sxrd_experiment_number, phase_2, texture_strength_type, output_folder, \n",
    "                                    ebsd_beta_results, cpf_beta_results, maud_beta_results)"
   ]
  },
  {
   "cell_type": "markdown",
   "id": "08bab460",
   "metadata": {},
   "source": [
    "### Plotting the ${\\beta}$-phase texture variation as a map"
   ]
  },
  {
   "cell_type": "markdown",
   "id": "10385ff8",
   "metadata": {},
   "source": [
    "We can also plot the **${\\beta}$-phase** texture strength variation as a two-dimensional map. Here, we are looking at the maximum pole figure intensity variation for different lattice plane peaks across the Ti-64 sample."
   ]
  },
  {
   "cell_type": "code",
   "execution_count": null,
   "id": "33332fe3",
   "metadata": {},
   "outputs": [],
   "source": [
    "texture_strength_type = \"001_pf_max\"\n",
    "v_min = 1\n",
    "v_max = 6\n",
    "c_map = \"Reds\"\n",
    "functions.plot_sxrd_map(sxrd_experiment_number, phase_2, texture_strength_type, output_folder, \n",
    "                       cpf_beta_results, c_map, v_min, v_max)\n",
    "\n",
    "texture_strength_type = \"110_pf_max\"\n",
    "v_min = 1\n",
    "v_max = 5\n",
    "c_map = \"Greens\"\n",
    "functions.plot_sxrd_map(sxrd_experiment_number, phase_2, texture_strength_type, output_folder, \n",
    "                       cpf_beta_results, c_map, v_min, v_max)\n",
    "\n",
    "texture_strength_type = \"111_pf_max\"\n",
    "v_min = 1\n",
    "v_max = 5\n",
    "c_map = \"Blues\"\n",
    "functions.plot_sxrd_map(sxrd_experiment_number, phase_2, texture_strength_type, output_folder, \n",
    "                       cpf_beta_results, c_map, v_min, v_max)"
   ]
  },
  {
   "cell_type": "code",
   "execution_count": null,
   "id": "92ed95ce",
   "metadata": {},
   "outputs": [],
   "source": []
  }
 ],
 "metadata": {
  "kernelspec": {
   "display_name": "Python 3 (ipykernel)",
   "language": "python",
   "name": "python3"
  },
  "language_info": {
   "codemirror_mode": {
    "name": "ipython",
    "version": 3
   },
   "file_extension": ".py",
   "mimetype": "text/x-python",
   "name": "python",
   "nbconvert_exporter": "python",
   "pygments_lexer": "ipython3",
   "version": "3.7.3"
  }
 },
 "nbformat": 4,
 "nbformat_minor": 5
}
