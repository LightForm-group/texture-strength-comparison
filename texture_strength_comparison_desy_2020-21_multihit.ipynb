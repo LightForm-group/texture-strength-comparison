{
 "cells": [
  {
   "cell_type": "code",
   "execution_count": null,
   "id": "6bd90fa3",
   "metadata": {},
   "outputs": [],
   "source": [
    "import pathlib\n",
    "import re\n",
    "\n",
    "from tqdm.notebook import tqdm\n",
    "import numpy as np\n",
    "import matplotlib.pyplot as plt\n",
    "import yaml\n",
    "\n",
    "import texture_strength_comparison_functions as functions\n",
    "\n",
    "%matplotlib inline\n",
    "%load_ext autoreload\n",
    "%autoreload 2"
   ]
  },
  {
   "cell_type": "markdown",
   "id": "1261b6e5",
   "metadata": {},
   "source": [
    "## Load YAML file"
   ]
  },
  {
   "cell_type": "markdown",
   "id": "b174d278",
   "metadata": {},
   "source": [
    "The file paths and user inputs for the analysis of the DESY 2020 and DESY 2021 experiments are included in the `yaml` configuration files, to record the inputs of the analysis.\n",
    "\n",
    "The information in the `yaml` file can be accessed like this."
   ]
  },
  {
   "cell_type": "code",
   "execution_count": null,
   "id": "7ae86952",
   "metadata": {},
   "outputs": [],
   "source": [
    "# to load the DESY 2021 analysis\n",
    "config_path = \"yaml/config_desy_2020_multihit.yaml\"\n",
    "config = functions.get_config(config_path)"
   ]
  },
  {
   "cell_type": "markdown",
   "id": "be20732b",
   "metadata": {},
   "source": [
    "## Analysing texture changes for the `DESY 2020` and `DESY 2021` experiments with Fourier Peak Analysis"
   ]
  },
  {
   "cell_type": "markdown",
   "id": "64eb643a",
   "metadata": {},
   "source": [
    "Load the **${\\alpha}$-phase** texture strengths for the data refined using direct intensities from Continuous-Peak-Fit using Fourier peak analysis and write the results to new arrays."
   ]
  },
  {
   "cell_type": "code",
   "execution_count": null,
   "id": "b2717759",
   "metadata": {},
   "outputs": [],
   "source": [
    "cpf_alpha_results = functions.load_sxrd_cpf_alpha_multihit(config_path)"
   ]
  },
  {
   "cell_type": "markdown",
   "id": "5a5559a6",
   "metadata": {},
   "source": [
    "Load the **${\\beta}$-phase** texture strengths for the data refined using direct intensities from Continuous-Peak-Fit using Fourier peak analysis and write the results to new arrays."
   ]
  },
  {
   "cell_type": "code",
   "execution_count": null,
   "id": "dbf0bf65",
   "metadata": {},
   "outputs": [],
   "source": [
    "cpf_beta_results = functions.load_sxrd_cpf_beta_multihit(config_path)"
   ]
  },
  {
   "cell_type": "markdown",
   "id": "fcce5531",
   "metadata": {},
   "source": [
    "### Plotting the ${\\alpha}$ and ${\\beta}$ texture changes during the `DESY 2020` and `DESY 2021` experiments from Fourier Peak Analysis"
   ]
  },
  {
   "cell_type": "markdown",
   "id": "05761814",
   "metadata": {},
   "source": [
    "The texture strength changes in both the ${\\alpha}$ and ${\\beta}$ phases can be plotted together, over time, versus image number. Using the Fourier peak analysis we can capture some very interesting changes in both the the ${\\alpha}$ and the ${\\beta}$ texture during a range of different high temperature deformation and high temperature annealing experiments."
   ]
  },
  {
   "cell_type": "code",
   "execution_count": null,
   "id": "5ffa4b0a",
   "metadata": {
    "scrolled": true
   },
   "outputs": [],
   "source": [
    "sxrd_experiment_number = config[\"user_inputs\"][\"sxrd_experiment_number\"]\n",
    "print(\"The SXRD experiment number is: \", sxrd_experiment_number, sep = '\\n', end = '\\n\\n')\n",
    "\n",
    "output_folder = config[\"file_paths\"][\"output_folder\"].format(experiment_number = sxrd_experiment_number)\n",
    "print(\"The output folder is: \", output_folder, sep = '\\n', end = '\\n\\n')\n",
    "\n",
    "fitting_type = \"cpf\"\n",
    "\n",
    "texture_strength_type = \"texture_index\"\n",
    "x_min = 1\n",
    "x_max = cpf_alpha_results[\"image_number\"][-1]\n",
    "y_min = 1\n",
    "y_max = 2\n",
    "legend_location = \"upper right\"\n",
    "\n",
    "functions.plot_texture_strength_two_phase(output_folder, sxrd_experiment_number, cpf_alpha_results, cpf_beta_results, \n",
    "                                          texture_strength_type,  fitting_type,\n",
    "                                          x_min, x_max, y_min, y_max, legend_location)\n",
    "\n",
    "texture_strength_type = \"odf_max\"\n",
    "y_min = 1\n",
    "y_max = 6\n",
    "legend_location = \"upper right\"\n",
    "\n",
    "functions.plot_texture_strength_two_phase(output_folder, sxrd_experiment_number, cpf_alpha_results, cpf_beta_results, \n",
    "                                          texture_strength_type,  fitting_type,\n",
    "                                          x_min, x_max, y_min, y_max, legend_location)"
   ]
  },
  {
   "cell_type": "markdown",
   "id": "9b9c5d7f",
   "metadata": {},
   "source": [
    "We can also plot how the pole figure intensity maxima in both the ${\\alpha}$ and ${\\beta}$ phases change over time, versus image number, during the high temperature loading."
   ]
  },
  {
   "cell_type": "code",
   "execution_count": null,
   "id": "bf8cdf21",
   "metadata": {},
   "outputs": [],
   "source": [
    "phase_1 = config[\"user_inputs\"][\"phase_1\"]\n",
    "print(\"The first phase is: \", phase_1, sep = '\\n', end = '\\n\\n')\n",
    "\n",
    "y_min = 1\n",
    "y_max = 4\n",
    "legend_location = \"upper right\"\n",
    "\n",
    "functions.plot_pf_intensity_two_phase(output_folder, sxrd_experiment_number, \n",
    "                                phase_1, cpf_alpha_results, fitting_type,\n",
    "                                x_min, x_max, y_min, y_max, legend_location)\n",
    "\n",
    "phase_2 = config[\"user_inputs\"][\"phase_2\"]\n",
    "print(\"The second phase is: \", phase_2, sep = '\\n', end = '\\n\\n')\n",
    "\n",
    "y_min = 1\n",
    "y_max = 5.5\n",
    "legend_location = \"upper right\"\n",
    "\n",
    "functions.plot_pf_intensity_two_phase(output_folder, sxrd_experiment_number, \n",
    "                                phase_2, cpf_beta_results, fitting_type,\n",
    "                                x_min, x_max, y_min, y_max, legend_location)"
   ]
  },
  {
   "cell_type": "code",
   "execution_count": null,
   "id": "8975d654",
   "metadata": {},
   "outputs": [],
   "source": []
  }
 ],
 "metadata": {
  "kernelspec": {
   "display_name": "Python 3 (ipykernel)",
   "language": "python",
   "name": "python3"
  },
  "language_info": {
   "codemirror_mode": {
    "name": "ipython",
    "version": 3
   },
   "file_extension": ".py",
   "mimetype": "text/x-python",
   "name": "python",
   "nbconvert_exporter": "python",
   "pygments_lexer": "ipython3",
   "version": "3.7.3"
  }
 },
 "nbformat": 4,
 "nbformat_minor": 5
}
