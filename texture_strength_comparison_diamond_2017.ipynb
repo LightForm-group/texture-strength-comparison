{
 "cells": [
  {
   "cell_type": "code",
   "execution_count": null,
   "id": "6bd90fa3",
   "metadata": {},
   "outputs": [],
   "source": [
    "import pathlib\n",
    "import re\n",
    "\n",
    "from tqdm.notebook import tqdm\n",
    "import numpy as np\n",
    "import matplotlib.pyplot as plt\n",
    "import yaml\n",
    "\n",
    "import texture_strength_comparison_functions as functions\n",
    "\n",
    "%matplotlib inline\n",
    "%load_ext autoreload\n",
    "%autoreload 2"
   ]
  },
  {
   "cell_type": "markdown",
   "id": "1261b6e5",
   "metadata": {},
   "source": [
    "## Load YAML file"
   ]
  },
  {
   "cell_type": "markdown",
   "id": "b174d278",
   "metadata": {},
   "source": [
    "The file paths and user inputs for the analysis of the Diamond 2017 experiment are included in the `yaml` configuration files, to record the inputs of the analysis.\n",
    "\n",
    "The information in the `yaml` file can be accessed like this."
   ]
  },
  {
   "cell_type": "code",
   "execution_count": null,
   "id": "7ae86952",
   "metadata": {},
   "outputs": [],
   "source": [
    "# to load the Diamond 2017 analysis\n",
    "config_path = \"yaml/config_diamond_2017.yaml\"\n",
    "config = functions.get_config(config_path)"
   ]
  },
  {
   "cell_type": "markdown",
   "id": "be20732b",
   "metadata": {},
   "source": [
    "## Analysing texture changes for the `Diamond 2017` experiment with Fourier Peak Analysis"
   ]
  },
  {
   "cell_type": "markdown",
   "id": "64eb643a",
   "metadata": {},
   "source": [
    "Load the **${\\alpha}$-phase** texture strengths for the data refined using direct intensities from Continuous-Peak-Fit using Fourier peak analysis and write the results to new arrays."
   ]
  },
  {
   "cell_type": "code",
   "execution_count": null,
   "id": "b2717759",
   "metadata": {},
   "outputs": [],
   "source": [
    "cpf_alpha_2017_results = functions.load_sxrd_cpf_alpha(config_path)"
   ]
  },
  {
   "cell_type": "markdown",
   "id": "5a5559a6",
   "metadata": {},
   "source": [
    "Load the **${\\beta}$-phase** texture strengths for the data refined using direct intensities from Continuous-Peak-Fit using Fourier peak analysis and write the results to new arrays."
   ]
  },
  {
   "cell_type": "code",
   "execution_count": null,
   "id": "dbf0bf65",
   "metadata": {},
   "outputs": [],
   "source": [
    "cpf_beta_2017_results = functions.load_sxrd_cpf_beta(config_path)"
   ]
  },
  {
   "cell_type": "markdown",
   "id": "fcce5531",
   "metadata": {},
   "source": [
    "### Plotting the ${\\alpha}$ and ${\\beta}$ texture changes during the `Diamond 2017` experiment from Fourier Peak Analysis"
   ]
  },
  {
   "cell_type": "markdown",
   "id": "05761814",
   "metadata": {},
   "source": [
    "The texture strength changes in both the ${\\alpha}$ and ${\\beta}$ phases can be plotted together, over time, versus image number. Here, we are looking at texture changes during a short high temperature hold (to image 3160), followed by high temperature deformation of our Ti-64 sample, at a strain rate ~ 0.02 /s at 950${^\\circ}$C, reaching 0.2 strain by image 3270 and reaching 0.5 strain by image 3360. Using the Fourier peak analysis we can capture some very interesting changes in both the the ${\\alpha}$ and the ${\\beta}$ texture during high temperature deformation."
   ]
  },
  {
   "cell_type": "code",
   "execution_count": null,
   "id": "5ffa4b0a",
   "metadata": {
    "scrolled": true
   },
   "outputs": [],
   "source": [
    "sxrd_experiment_number = config[\"user_inputs\"][\"sxrd_experiment_number\"]\n",
    "print(\"The SXRD experiment number is: \", sxrd_experiment_number, sep = '\\n', end = '\\n\\n')\n",
    "\n",
    "output_folder = config[\"file_paths\"][\"output_folder\"].format(experiment_number = sxrd_experiment_number)\n",
    "print(\"The output folder is: \", output_folder, sep = '\\n', end = '\\n\\n')\n",
    "\n",
    "fitting_type = \"cpf\"\n",
    "\n",
    "texture_strength_type = \"texture_index\"\n",
    "x_min = cpf_alpha_2017_results[\"image_number\"][0]\n",
    "x_max = cpf_alpha_2017_results[\"image_number\"][-1]\n",
    "y_min = 1\n",
    "y_max = 1.72\n",
    "legend_location = \"upper left\"\n",
    "\n",
    "functions.plot_texture_strength_two_phase(output_folder, sxrd_experiment_number, cpf_alpha_2017_results, cpf_beta_2017_results, \n",
    "                                          texture_strength_type,  fitting_type,\n",
    "                                          x_min, x_max, y_min, y_max, legend_location)\n",
    "\n",
    "texture_strength_type = \"odf_max\"\n",
    "y_min = 1\n",
    "y_max = 6\n",
    "\n",
    "functions.plot_texture_strength_two_phase(output_folder, sxrd_experiment_number, cpf_alpha_2017_results, cpf_beta_2017_results, \n",
    "                                          texture_strength_type,  fitting_type,\n",
    "                                          x_min, x_max, y_min, y_max, legend_location)"
   ]
  },
  {
   "cell_type": "markdown",
   "id": "9b9c5d7f",
   "metadata": {},
   "source": [
    "We can also plot how the pole figure intensity maxima in both the ${\\alpha}$ and ${\\beta}$ phases change over time, versus image number, during the high temperature loading."
   ]
  },
  {
   "cell_type": "code",
   "execution_count": null,
   "id": "bf8cdf21",
   "metadata": {},
   "outputs": [],
   "source": [
    "phase_1 = config[\"user_inputs\"][\"phase_1\"]\n",
    "print(\"The first phase is: \", phase_1, sep = '\\n', end = '\\n\\n')\n",
    "\n",
    "y_min = 1\n",
    "y_max = 2.4\n",
    "legend_location = \"upper right\"\n",
    "\n",
    "functions.plot_pf_intensity_two_phase(output_folder, sxrd_experiment_number, \n",
    "                                phase_1, cpf_alpha_2017_results, fitting_type,\n",
    "                                x_min, x_max, y_min, y_max, legend_location)\n",
    "\n",
    "phase_2 = config[\"user_inputs\"][\"phase_2\"]\n",
    "print(\"The second phase is: \", phase_2, sep = '\\n', end = '\\n\\n')\n",
    "\n",
    "y_min = 1.5\n",
    "y_max = 3.4\n",
    "legend_location = \"upper left\"\n",
    "\n",
    "functions.plot_pf_intensity_two_phase(output_folder, sxrd_experiment_number, \n",
    "                                phase_2, cpf_beta_2017_results, fitting_type,\n",
    "                                x_min, x_max, y_min, y_max, legend_location)"
   ]
  },
  {
   "cell_type": "markdown",
   "id": "d55d0670",
   "metadata": {},
   "source": [
    "## Analysing texture changes for the `Diamond 2017` experiment with MAUD analysis"
   ]
  },
  {
   "cell_type": "markdown",
   "id": "71daefd1",
   "metadata": {},
   "source": [
    "Load the **${\\alpha}$-phase** texture strengths for the data refined using direct intensities from MAUD using Rietveld refinement analysis and write the results to new arrays.\n",
    "\n",
    "*Note, this has to be done with code, rather than as a function, due to issue with recording image_number during refinement.*"
   ]
  },
  {
   "cell_type": "code",
   "execution_count": null,
   "id": "470f002e",
   "metadata": {},
   "outputs": [],
   "source": [
    "sxrd_experiment_number = config[\"user_inputs\"][\"sxrd_experiment_number\"]\n",
    "print(\"The SXRD experiment number is: \", sxrd_experiment_number, sep = '\\n', end = '\\n\\n')\n",
    "sxrd_maud_alpha_results_file = config[\"file_paths\"][\"sxrd_maud_alpha_results_file\"].format(experiment_number = sxrd_experiment_number)\n",
    "print(\"The SXRD results file is: \", sxrd_maud_alpha_results_file, sep = '\\n', end = '\\n\\n')\n",
    "sxrd_maud_results = np.loadtxt(sxrd_maud_alpha_results_file, usecols = np.arange(0,9), dtype='str', skiprows = 1)\n",
    "\n",
    "maud_alpha_2017_results = {\n",
    "                \"image_number\" : cpf_alpha_2017_results[\"image_number\"],\n",
    "                \"texture_index\" : sxrd_maud_results[:,1].astype(float),\n",
    "                \"odf_max\" : sxrd_maud_results[:,2].astype(float),\n",
    "                \"phi1\" : sxrd_maud_results[:,3].astype(float),\n",
    "                \"PHI\" : sxrd_maud_results[:,4].astype(float),\n",
    "                \"phi2\" : sxrd_maud_results[:,5].astype(float),\n",
    "                \"0002_pf_max\" : sxrd_maud_results[:,6].astype(float),\n",
    "                \"10-10_pf_max\" : sxrd_maud_results[:,7].astype(float),\n",
    "                \"11-20_pf_max\" : sxrd_maud_results[:,8].astype(float),\n",
    "                }\n",
    "print(\"The SXRD results using MAUD have been written to new arrays with the following keys: \", maud_alpha_2017_results.keys(), sep = '\\n', end = '\\n\\n')"
   ]
  },
  {
   "cell_type": "markdown",
   "id": "8db0cd7d",
   "metadata": {},
   "source": [
    "Load the **${\\beta}$-phase** texture strengths for the data refined using direct intensities from MAUD using Rietveld refinement analysis and write the results to new arrays.\n",
    "\n",
    "*Note, this has to be done with code, rather than as a function, due to issue with recording image_number during refinement.*"
   ]
  },
  {
   "cell_type": "code",
   "execution_count": null,
   "id": "8d966cc0",
   "metadata": {},
   "outputs": [],
   "source": [
    "sxrd_experiment_number = config[\"user_inputs\"][\"sxrd_experiment_number\"]\n",
    "print(\"The SXRD experiment number is: \", sxrd_experiment_number, sep = '\\n', end = '\\n\\n')\n",
    "sxrd_maud_beta_results_file = config[\"file_paths\"][\"sxrd_maud_beta_results_file\"].format(experiment_number = sxrd_experiment_number)\n",
    "print(\"The SXRD results file is: \", sxrd_maud_beta_results_file, sep = '\\n', end = '\\n\\n')\n",
    "sxrd_maud_results = np.loadtxt(sxrd_maud_beta_results_file, usecols = np.arange(0,9), dtype='str', skiprows = 1)\n",
    "\n",
    "maud_beta_2017_results = {\n",
    "                \"image_number\" : cpf_alpha_2017_results[\"image_number\"],\n",
    "                \"texture_index\" : sxrd_maud_results[:,1].astype(float),\n",
    "                \"odf_max\" : sxrd_maud_results[:,2].astype(float),\n",
    "                \"phi1\" : sxrd_maud_results[:,3].astype(float),\n",
    "                \"PHI\" : sxrd_maud_results[:,4].astype(float),\n",
    "                \"phi2\" : sxrd_maud_results[:,5].astype(float),\n",
    "                \"001_pf_max\" : sxrd_maud_results[:,6].astype(float),\n",
    "                \"110_pf_max\" : sxrd_maud_results[:,7].astype(float),\n",
    "                \"111_pf_max\" : sxrd_maud_results[:,8].astype(float),\n",
    "                }\n",
    "print(\"The SXRD results using MAUD have been written to new arrays with the following keys: \", maud_beta_2017_results.keys(), sep = '\\n', end = '\\n\\n')"
   ]
  },
  {
   "cell_type": "markdown",
   "id": "623f5244",
   "metadata": {},
   "source": [
    "### Plotting the ${\\alpha}$ and ${\\beta}$ texture changes during the `Diamond 2017` experiment from MAUD"
   ]
  },
  {
   "cell_type": "markdown",
   "id": "d1010e33",
   "metadata": {},
   "source": [
    "The texture strength changes in both the ${\\alpha}$ and ${\\beta}$ phases can also be plotted from the MAUD analysis. However, the texture changes measured using MAUD are much weaker than those calculated using the Fourier peak analysis, a result thought to be affected by the E-WIMV algorithm used to calculate texture in MAUD, which has been found to average over any texture intensity variation - see Diamond 2021 results."
   ]
  },
  {
   "cell_type": "code",
   "execution_count": null,
   "id": "b61fb4d9",
   "metadata": {
    "scrolled": true
   },
   "outputs": [],
   "source": [
    "fitting_type = \"maud\"\n",
    "\n",
    "texture_strength_type = \"texture_index\"\n",
    "y_min = 1.25\n",
    "y_max = 2.4\n",
    "legend_location = \"upper left\"\n",
    "\n",
    "functions.plot_texture_strength_two_phase(output_folder, sxrd_experiment_number, maud_alpha_2017_results, maud_beta_2017_results, \n",
    "                                          texture_strength_type,  fitting_type,\n",
    "                                          x_min, x_max, y_min, y_max, legend_location)\n",
    "\n",
    "texture_strength_type = \"odf_max\"\n",
    "y_min = 1\n",
    "y_max = 9\n",
    "\n",
    "functions.plot_texture_strength_two_phase(output_folder, sxrd_experiment_number, maud_alpha_2017_results, maud_beta_2017_results, \n",
    "                                          texture_strength_type,  fitting_type,\n",
    "                                          x_min, x_max, y_min, y_max, legend_location)"
   ]
  },
  {
   "cell_type": "markdown",
   "id": "ea1b715d",
   "metadata": {},
   "source": [
    "We can also plot how the pole figure intensity maxima in both the ${\\alpha}$ and ${\\beta}$ phases from the MAUD analysis. However, this again shows a much weaker texture changes than expected."
   ]
  },
  {
   "cell_type": "code",
   "execution_count": null,
   "id": "786edfc3",
   "metadata": {},
   "outputs": [],
   "source": [
    "phase_1 = config[\"user_inputs\"][\"phase_1\"]\n",
    "print(\"The first phase is: \", phase_1, sep = '\\n', end = '\\n\\n')\n",
    "\n",
    "y_min = 2\n",
    "y_max = 7\n",
    "legend_location = \"upper right\"\n",
    "\n",
    "functions.plot_pf_intensity_two_phase(output_folder, sxrd_experiment_number, \n",
    "                                phase_1, maud_alpha_2017_results, fitting_type,\n",
    "                                x_min, x_max, y_min, y_max, legend_location)\n",
    "\n",
    "phase_2 = config[\"user_inputs\"][\"phase_2\"]\n",
    "print(\"The second phase is: \", phase_2, sep = '\\n', end = '\\n\\n')\n",
    "\n",
    "y_min = 1.5\n",
    "y_max = 3.4\n",
    "legend_location = \"upper left\"\n",
    "\n",
    "functions.plot_pf_intensity_two_phase(output_folder, sxrd_experiment_number, \n",
    "                                phase_2, maud_beta_2017_results, fitting_type,\n",
    "                                x_min, x_max, y_min, y_max, legend_location)"
   ]
  }
 ],
 "metadata": {
  "kernelspec": {
   "display_name": "Python 3 (ipykernel)",
   "language": "python",
   "name": "python3"
  },
  "language_info": {
   "codemirror_mode": {
    "name": "ipython",
    "version": 3
   },
   "file_extension": ".py",
   "mimetype": "text/x-python",
   "name": "python",
   "nbconvert_exporter": "python",
   "pygments_lexer": "ipython3",
   "version": "3.7.3"
  }
 },
 "nbformat": 4,
 "nbformat_minor": 5
}
